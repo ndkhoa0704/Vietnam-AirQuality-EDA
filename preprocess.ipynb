{
 "cells": [
  {
   "cell_type": "code",
   "execution_count": 158,
   "metadata": {},
   "outputs": [],
   "source": [
    "import pandas as pd\n",
    "import numpy as np"
   ]
  },
  {
   "cell_type": "code",
   "execution_count": 159,
   "metadata": {},
   "outputs": [],
   "source": [
    "df = pd.read_csv('./data/historical_air_quality_2021_en.csv')"
   ]
  },
  {
   "cell_type": "code",
   "execution_count": 160,
   "metadata": {},
   "outputs": [],
   "source": [
    "# Remove empty rows\n",
    "df = df[df.sum(axis=1) != 0]\n",
    "# Remove unused columns\n",
    "df = df.drop(columns=['Station ID', 'Url', 'Status', 'Alert level', 'Data Time Tz'])\n",
    "# Replace unwanted characters\n",
    "df = df.replace('-', np.nan)\n",
    "# Split location to long and lat\n",
    "t = df['Location'].str.split(',')\n",
    "df['Longitude'] = t.apply(lambda x: x[0])\n",
    "df['Latitude'] = t.apply(lambda x: x[1])\n",
    "df = df.drop(columns='Location')\n",
    "del t\n",
    "# Conver data type \n",
    "df['Pressure'] = df['Pressure'].str.replace(',', '')\n",
    "features = ['AQI index', 'CO', 'Dew', \n",
    "'Humidity', 'NO2', 'O3', 'Pressure', \n",
    "'PM10', 'PM2.5', 'SO2', 'Temperature', 'Wind',\n",
    "'Longitude', 'Latitude']\n",
    "df[features] = df[features].astype('float64')\n",
    "# Fill nan by median\n",
    "df[features[1:]] = df[features[1:]].apply(lambda x: x.fillna(x.median()), axis=0)\n",
    "# Drop rows with unknown AQI index\n",
    "df = df[~df['AQI index'].isna()]\n",
    "# Drop unknown pollutant\n",
    "df = df[df['Dominent pollutant'] != 'aqi']\n",
    "df = df[~df['Dominent pollutant'].isna()]"
   ]
  },
  {
   "cell_type": "code",
   "execution_count": 161,
   "metadata": {},
   "outputs": [],
   "source": [
    "# Add status\n",
    "def status(x):\n",
    "    if 0 <= x <= 50:\n",
    "        return 'Good'\n",
    "    if 51 <= x <= 100:\n",
    "        return 'Moderate'\n",
    "    if 101 <= x <= 150:\n",
    "        return 'Unhealthy for sensitive groups'\n",
    "    if 151 <= x <= 200:\n",
    "        return 'Unhealthy'\n",
    "    if 201 <= x <= 300:\n",
    "        return 'Very unhealthy'\n",
    "    if 301 <= x:\n",
    "        return 'Hazardous'\n",
    "df['Status'] = df['AQI index'].apply(status)"
   ]
  },
  {
   "cell_type": "code",
   "execution_count": 162,
   "metadata": {},
   "outputs": [],
   "source": [
    "df.to_csv('./data/processed.csv', index=False)"
   ]
  }
 ],
 "metadata": {
  "interpreter": {
   "hash": "102160c5fa2a309a811be53e5d46051fbbc39e4379223f229f9a4264a9858d68"
  },
  "kernelspec": {
   "display_name": "Python 3.8.8 ('min_ds-env')",
   "language": "python",
   "name": "python3"
  },
  "language_info": {
   "codemirror_mode": {
    "name": "ipython",
    "version": 3
   },
   "file_extension": ".py",
   "mimetype": "text/x-python",
   "name": "python",
   "nbconvert_exporter": "python",
   "pygments_lexer": "ipython3",
   "version": "3.8.8"
  },
  "orig_nbformat": 4
 },
 "nbformat": 4,
 "nbformat_minor": 2
}
